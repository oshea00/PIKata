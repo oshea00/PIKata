{
 "cells": [
  {
   "cell_type": "markdown",
   "metadata": {},
   "source": [
    "# Making PI Kata"
   ]
  },
  {
   "cell_type": "markdown",
   "metadata": {},
   "source": [
    "\n",
    "## The Math - Buffon's Needle\n",
    "I've seen this demonstration before, seeing $\\pi$ magically jump out of a seemingly random process, and got the immediate intuition about it. Until this kata I hadn't sat down and puzzled out the math. So, here goes...\n",
    "\n",
    "The process is to lay out a grid of lines and drop \"needles\" on the grid, noting the number that cross grid lines, do some math on the results, and out pops $\\pi$. But why does this work? Well, the intuion is that the needles are rotating, and wherever there are circles, there is $\\pi$.\n",
    "\n",
    "Working out the probability that a needle will cross a vertical line depends on the horizontal x-axis area covered by the rotated needle when projected to the x-axis. That distance divided by the total distance beteen lines gives a probability for any particular needle rotation. The trick is to sum up everything for each angle of rotation - and that means - calculus!\n",
    "\n",
    "![My Scribble](Estpi.png)\n",
    "\n",
    "## Solving\n",
    "\n",
    "The projected x-axis distance $X_d$ of a rotated needle of length $L$:\n",
    "$$X_d = L\\cos \\theta$$\n",
    "\n",
    "Integrate over all possible $X_d$ (by sweeping through $90^{\\circ}$) to obtain probability of crossing $P$:\n",
    "$$P = \\frac{\\int_0^{\\pi/2} L\\cos \\theta\\,d\\theta}{\\int_0^{\\pi/2} D\\, d\\theta}$$\n",
    "\n",
    "Integrate... or, for even more fun, let's use [Wolfram Alpha](https://wolframalpha.com) :\n",
    "![](wolfsnip.png)\n",
    "\n",
    "Rearranging the resulting formula lets us estimate $\\pi$. So, plunging ahead..."
   ]
  },
  {
   "cell_type": "code",
   "execution_count": 1,
   "metadata": {},
   "outputs": [],
   "source": [
    "import random\n",
    "from numpy import linspace\n",
    "import matplotlib.pyplot as plt\n",
    "from ipycanvas import Canvas, hold_canvas"
   ]
  },
  {
   "cell_type": "code",
   "execution_count": 2,
   "metadata": {},
   "outputs": [],
   "source": [
    "random.seed()\n",
    "width = 600\n",
    "height = 400\n",
    "numLines = 11\n",
    "D = width / numLines\n",
    "ratio = 1/3\n",
    "lines = [i*D for i in range(numLines+1)]\n",
    "L = (ratio)*D + 5\n",
    "n = 500"
   ]
  },
  {
   "cell_type": "markdown",
   "metadata": {},
   "source": [
    "## No math libraries!\n",
    "To actually rotate things, I'll at least need square roots. This is Newton's method."
   ]
  },
  {
   "cell_type": "code",
   "execution_count": 3,
   "metadata": {},
   "outputs": [],
   "source": [
    "def sqrtn(n):\n",
    "    if n < 0:\n",
    "        raise Exception(\"sqrt of neg\")\n",
    "    if n == 0:\n",
    "        return 0\n",
    "    e = 1.0e-7\n",
    "    k = n + 1\n",
    "    while abs(n - k*k) > e:\n",
    "        k1 = (k + n/k) / 2\n",
    "        k = k1\n",
    "    return k"
   ]
  },
  {
   "cell_type": "markdown",
   "metadata": {},
   "source": [
    "Now we can rotate the unit radius (length 1) by rearranging the circle formula $r = \\sqrt{x^2 + y^2}$:\n",
    "\n",
    "$$y = \\sqrt{1 - x^2}$$"
   ]
  },
  {
   "cell_type": "code",
   "execution_count": 4,
   "metadata": {},
   "outputs": [],
   "source": [
    "samples = 1000\n",
    "xs = linspace(0,1,samples) \n",
    "ys = [sqrtn(1 - x*x) for x in xs]"
   ]
  },
  {
   "cell_type": "markdown",
   "metadata": {},
   "source": [
    "This will generate a randomly rotated line."
   ]
  },
  {
   "cell_type": "code",
   "execution_count": 5,
   "metadata": {},
   "outputs": [],
   "source": [
    "def randomRotatedLine(length):\n",
    "    ox = random.random()*(width)\n",
    "    oy = random.random()*(height)\n",
    "    quad = random.choice([1,-1])\n",
    "    idx = random.randint(0,samples-1)\n",
    "    x = quad*xs[idx]*length\n",
    "    y = ys[idx]*length\n",
    "    return[[ox,oy],[ox+x,oy+y]]\n"
   ]
  },
  {
   "cell_type": "markdown",
   "metadata": {},
   "source": [
    "The remaining functions determine line crossings and estimate $\\pi$"
   ]
  },
  {
   "cell_type": "code",
   "execution_count": 6,
   "metadata": {},
   "outputs": [],
   "source": [
    "def crosses(s,lines):\n",
    "    for l in lines:\n",
    "        if s[0][0] > s[1][0]:\n",
    "            s[0], s[1] = s[1], s[0]\n",
    "        if s[0][0] <= l and s[1][0] >= l:\n",
    "            return True\n",
    "    return False"
   ]
  },
  {
   "cell_type": "code",
   "execution_count": 34,
   "metadata": {},
   "outputs": [],
   "source": [
    "def estimate():\n",
    "    sticks = [randomRotatedLine(L) for _ in range(n)]\n",
    "    crossed = sum([crosses(s,lines) for s in sticks])\n",
    "    estimate = 0 if crossed == 0 else (2*ratio*n) / (crossed)\n",
    "    return estimate, sticks, crossed"
   ]
  },
  {
   "cell_type": "code",
   "execution_count": 66,
   "metadata": {},
   "outputs": [
    {
     "name": "stdout",
     "output_type": "stream",
     "text": [
      "est pi = 3.1746031746031744\n"
     ]
    }
   ],
   "source": [
    "avgest, sticks, crossed = estimate()\n",
    "print(f\"est pi = {avgest}\")"
   ]
  },
  {
   "cell_type": "code",
   "execution_count": 9,
   "metadata": {},
   "outputs": [],
   "source": [
    "def drawline(s,canvas):\n",
    "    canvas.begin_path()\n",
    "    canvas.move_to(s[0][0],s[0][1])\n",
    "    canvas.line_to(s[1][0],s[1][1])\n",
    "    canvas.stroke()"
   ]
  },
  {
   "cell_type": "markdown",
   "metadata": {},
   "source": [
    "## Visualize"
   ]
  },
  {
   "cell_type": "code",
   "execution_count": 33,
   "metadata": {},
   "outputs": [
    {
     "data": {
      "application/vnd.jupyter.widget-view+json": {
       "model_id": "b70e22ffdd734779a6a63139ef47923f",
       "version_major": 2,
       "version_minor": 0
      },
      "text/plain": [
       "Canvas(layout=Layout(height='500px', width='700px'), size=(700, 500), sync_image_data=True)"
      ]
     },
     "metadata": {},
     "output_type": "display_data"
    }
   ],
   "source": [
    "canvas = Canvas(sync_image_data=True)\n",
    "def saveFile(*args, **kwargs):\n",
    "    canvas.to_file('sticks.png')\n",
    "with hold_canvas(canvas):\n",
    "    canvas.fill_style = 'white'\n",
    "    canvas.stroke_style = 'green'\n",
    "    canvas.fill_rect(0, 0, width, height)\n",
    "    canvas.stroke_style = 'green'\n",
    "    for l in lines:\n",
    "        drawline([[l,0],[l,height]],canvas)\n",
    "    for s in sticks:\n",
    "        canvas.stroke_style = 'red' if crosses(s,lines) else 'black'\n",
    "        drawline(s,canvas)\n",
    "canvas.observe(saveFile,'image_data')\n",
    "canvas\n"
   ]
  },
  {
   "cell_type": "markdown",
   "metadata": {},
   "source": [
    "![](sticks.png)"
   ]
  },
  {
   "cell_type": "markdown",
   "metadata": {},
   "source": [
    "Showing distribution of estimates around $\\pi$"
   ]
  },
  {
   "cell_type": "code",
   "execution_count": 11,
   "metadata": {},
   "outputs": [
    {
     "data": {
      "image/png": "[encoded data removed]",
      "text/plain": [
       "<Figure size 1080x432 with 1 Axes>"
      ]
     },
     "metadata": {
      "needs_background": "light"
     },
     "output_type": "display_data"
    }
   ],
   "source": [
    "ests = [estimate()[0] for _ in range(1000)]\n",
    "ests.sort(reverse=True)\n",
    "plt.figure(figsize=(15,6))\n",
    "plt.axhline(3.141,color='r')\n",
    "plt.plot(range(1000),ests);\n"
   ]
  }
 ],
 "metadata": {
  "kernelspec": {
   "display_name": "Python 3",
   "language": "python",
   "name": "python3"
  },
  "language_info": {
   "codemirror_mode": {
    "name": "ipython",
    "version": 3
   },
   "file_extension": ".py",
   "mimetype": "text/x-python",
   "name": "python",
   "nbconvert_exporter": "python",
   "pygments_lexer": "ipython3",
   "version": "3.7.3"
  }
 },
 "nbformat": 4,
 "nbformat_minor": 2
}
